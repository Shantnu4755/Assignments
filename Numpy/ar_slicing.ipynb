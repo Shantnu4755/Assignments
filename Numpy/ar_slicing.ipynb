{
 "cells": [
  {
   "cell_type": "code",
   "execution_count": 9,
   "metadata": {},
   "outputs": [],
   "source": [
    "import numpy as np"
   ]
  },
  {
   "cell_type": "code",
   "execution_count": 10,
   "metadata": {},
   "outputs": [],
   "source": [
    "Arr = np.random.randint(1,101, size=(10,5))"
   ]
  },
  {
   "cell_type": "code",
   "execution_count": 11,
   "metadata": {},
   "outputs": [
    {
     "data": {
      "text/plain": [
       "array([[ 86,  78,  51,  47,  22],\n",
       "       [ 39,  39,  29,  80,  47],\n",
       "       [ 34,  86,  38,  24,  29],\n",
       "       [ 65,  82,   4,  52,  19],\n",
       "       [ 94,   4,  25,  22,  34],\n",
       "       [  8,  68,  55,  89,  32],\n",
       "       [ 25,  36,  58,  80,  25],\n",
       "       [ 63,  11,  83,  98,  62],\n",
       "       [ 44, 100,   2,  72,  19],\n",
       "       [ 89, 100,  25,  94,  26]])"
      ]
     },
     "execution_count": 11,
     "metadata": {},
     "output_type": "execute_result"
    }
   ],
   "source": [
    "Arr"
   ]
  },
  {
   "cell_type": "code",
   "execution_count": 12,
   "metadata": {},
   "outputs": [],
   "source": [
    "new_Arr = Arr[0:3, 0:2]"
   ]
  },
  {
   "cell_type": "code",
   "execution_count": 13,
   "metadata": {},
   "outputs": [
    {
     "data": {
      "text/plain": [
       "array([[86, 78],\n",
       "       [39, 39],\n",
       "       [34, 86]])"
      ]
     },
     "execution_count": 13,
     "metadata": {},
     "output_type": "execute_result"
    }
   ],
   "source": [
    "new_Arr"
   ]
  },
  {
   "cell_type": "code",
   "execution_count": 14,
   "metadata": {},
   "outputs": [],
   "source": [
    "Arr[0:3,0:2]=0"
   ]
  },
  {
   "cell_type": "code",
   "execution_count": 15,
   "metadata": {},
   "outputs": [
    {
     "data": {
      "text/plain": [
       "array([[  0,   0,  51,  47,  22],\n",
       "       [  0,   0,  29,  80,  47],\n",
       "       [  0,   0,  38,  24,  29],\n",
       "       [ 65,  82,   4,  52,  19],\n",
       "       [ 94,   4,  25,  22,  34],\n",
       "       [  8,  68,  55,  89,  32],\n",
       "       [ 25,  36,  58,  80,  25],\n",
       "       [ 63,  11,  83,  98,  62],\n",
       "       [ 44, 100,   2,  72,  19],\n",
       "       [ 89, 100,  25,  94,  26]])"
      ]
     },
     "execution_count": 15,
     "metadata": {},
     "output_type": "execute_result"
    }
   ],
   "source": [
    "Arr"
   ]
  },
  {
   "cell_type": "code",
   "execution_count": null,
   "metadata": {},
   "outputs": [],
   "source": []
  }
 ],
 "metadata": {
  "kernelspec": {
   "display_name": "Python 3",
   "language": "python",
   "name": "python3"
  },
  "language_info": {
   "codemirror_mode": {
    "name": "ipython",
    "version": 3
   },
   "file_extension": ".py",
   "mimetype": "text/x-python",
   "name": "python",
   "nbconvert_exporter": "python",
   "pygments_lexer": "ipython3",
   "version": "3.12.4"
  }
 },
 "nbformat": 4,
 "nbformat_minor": 2
}

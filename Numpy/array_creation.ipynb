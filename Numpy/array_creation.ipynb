{
 "cells": [
  {
   "cell_type": "code",
   "execution_count": 6,
   "metadata": {},
   "outputs": [],
   "source": [
    "import numpy as np"
   ]
  },
  {
   "cell_type": "code",
   "execution_count": 7,
   "metadata": {},
   "outputs": [],
   "source": [
    "Arr = np.random.randint(1,101, size=(10,5))"
   ]
  },
  {
   "cell_type": "code",
   "execution_count": 9,
   "metadata": {},
   "outputs": [
    {
     "data": {
      "text/plain": [
       "array([[39, 43, 68, 84, 33],\n",
       "       [89, 96, 45, 59, 95],\n",
       "       [26, 62, 48, 71, 90],\n",
       "       [64, 80, 24, 81,  5],\n",
       "       [15, 43, 39, 45, 46],\n",
       "       [75, 64, 44, 59, 65],\n",
       "       [32, 60, 82, 37,  1],\n",
       "       [53, 80, 14, 71, 89],\n",
       "       [16, 97,  2, 82, 83],\n",
       "       [80, 51, 63, 93, 30]])"
      ]
     },
     "execution_count": 9,
     "metadata": {},
     "output_type": "execute_result"
    }
   ],
   "source": [
    "Arr"
   ]
  }
 ],
 "metadata": {
  "kernelspec": {
   "display_name": "Python 3",
   "language": "python",
   "name": "python3"
  },
  "language_info": {
   "codemirror_mode": {
    "name": "ipython",
    "version": 3
   },
   "file_extension": ".py",
   "mimetype": "text/x-python",
   "name": "python",
   "nbconvert_exporter": "python",
   "pygments_lexer": "ipython3",
   "version": "3.12.4"
  }
 },
 "nbformat": 4,
 "nbformat_minor": 2
}

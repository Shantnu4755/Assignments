{
 "cells": [
  {
   "cell_type": "code",
   "execution_count": 1,
   "metadata": {},
   "outputs": [],
   "source": [
    "import numpy as np"
   ]
  },
  {
   "cell_type": "code",
   "execution_count": 2,
   "metadata": {},
   "outputs": [],
   "source": [
    "np_array = np.random.randint(1, 100, size=(10, 10))"
   ]
  },
  {
   "cell_type": "code",
   "execution_count": 7,
   "metadata": {},
   "outputs": [
    {
     "data": {
      "text/plain": [
       "array([[94,  4, 78, 74, 73, 61, 20, 61, 48, 67],\n",
       "       [84, 71, 81, 37, 92, 94, 54, 10, 68, 46],\n",
       "       [71, 30, 44, 36, 91, 38, 58, 42, 26, 95],\n",
       "       [62, 41, 75, 14,  7, 96, 21, 54, 26, 65],\n",
       "       [ 8, 48,  5, 85, 99, 10, 90, 10, 53,  8],\n",
       "       [ 4, 87, 69, 24, 88, 78,  6, 74, 25, 71],\n",
       "       [60, 22, 44, 95, 86, 18,  5, 70, 31, 54],\n",
       "       [71, 60, 96, 88, 45, 33, 50, 69, 33, 61],\n",
       "       [66, 97, 96, 58, 55, 26, 66, 12, 47, 76],\n",
       "       [77, 40,  2, 50, 47, 98, 53, 12, 15, 72]])"
      ]
     },
     "execution_count": 7,
     "metadata": {},
     "output_type": "execute_result"
    }
   ],
   "source": [
    "np_array"
   ]
  },
  {
   "cell_type": "code",
   "execution_count": 3,
   "metadata": {},
   "outputs": [],
   "source": [
    "filtered_array = np_array[np_array > 50]\n"
   ]
  },
  {
   "cell_type": "code",
   "execution_count": 4,
   "metadata": {},
   "outputs": [
    {
     "data": {
      "text/plain": [
       "array([94, 78, 74, 73, 61, 61, 67, 84, 71, 81, 92, 94, 54, 68, 71, 91, 58,\n",
       "       95, 62, 75, 96, 54, 65, 85, 99, 90, 53, 87, 69, 88, 78, 74, 71, 60,\n",
       "       95, 86, 70, 54, 71, 60, 96, 88, 69, 61, 66, 97, 96, 58, 55, 66, 76,\n",
       "       77, 98, 53, 72])"
      ]
     },
     "execution_count": 4,
     "metadata": {},
     "output_type": "execute_result"
    }
   ],
   "source": [
    "filtered_array\n"
   ]
  },
  {
   "cell_type": "code",
   "execution_count": 5,
   "metadata": {},
   "outputs": [],
   "source": [
    "count_filtered_elements = filtered_array.size #using size\n"
   ]
  },
  {
   "cell_type": "code",
   "execution_count": 6,
   "metadata": {},
   "outputs": [
    {
     "data": {
      "text/plain": [
       "55"
      ]
     },
     "execution_count": 6,
     "metadata": {},
     "output_type": "execute_result"
    }
   ],
   "source": [
    "count_filtered_elements"
   ]
  }
 ],
 "metadata": {
  "kernelspec": {
   "display_name": "Python 3",
   "language": "python",
   "name": "python3"
  },
  "language_info": {
   "codemirror_mode": {
    "name": "ipython",
    "version": 3
   },
   "file_extension": ".py",
   "mimetype": "text/x-python",
   "name": "python",
   "nbconvert_exporter": "python",
   "pygments_lexer": "ipython3",
   "version": "3.12.4"
  }
 },
 "nbformat": 4,
 "nbformat_minor": 2
}
